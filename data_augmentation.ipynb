{
 "cells": [
  {
   "cell_type": "markdown",
   "metadata": {},
   "source": [
    "## Data Augmentation\n",
    "### Nov 4 2021\n",
    "### Mersad Masoud\n",
    "#### *Zlab Project*"
   ]
  },
  {
   "cell_type": "code",
   "execution_count": 9,
   "metadata": {},
   "outputs": [
    {
     "name": "stdout",
     "output_type": "stream",
     "text": [
      "Collecting Augmentor\n",
      "  Using cached Augmentor-0.2.9-py2.py3-none-any.whl (38 kB)\n",
      "Collecting future>=0.16.0\n",
      "  Using cached future-0.18.2.tar.gz (829 kB)\n",
      "Requirement already satisfied: numpy>=1.11.0 in c:\\users\\msi\\miniconda3\\lib\\site-packages (from Augmentor) (1.19.5)\n",
      "Requirement already satisfied: Pillow>=5.2.0 in c:\\users\\msi\\miniconda3\\lib\\site-packages (from Augmentor) (8.3.2)\n",
      "Requirement already satisfied: tqdm>=4.9.0 in c:\\users\\msi\\miniconda3\\lib\\site-packages (from Augmentor) (4.61.2)\n",
      "Requirement already satisfied: colorama in c:\\users\\msi\\miniconda3\\lib\\site-packages (from tqdm>=4.9.0->Augmentor) (0.4.4)\n",
      "Building wheels for collected packages: future\n",
      "  Building wheel for future (setup.py): started\n",
      "  Building wheel for future (setup.py): finished with status 'done'\n",
      "  Created wheel for future: filename=future-0.18.2-py3-none-any.whl size=491059 sha256=49a8deb1ca0b6c811b0ea966d7050363693224f89d9152dc774e949d08371918\n",
      "  Stored in directory: c:\\users\\msi\\appdata\\local\\pip\\cache\\wheels\\2f\\a0\\d3\\4030d9f80e6b3be787f19fc911b8e7aa462986a40ab1e4bb94\n",
      "Successfully built future\n",
      "Installing collected packages: future, Augmentor\n",
      "Successfully installed Augmentor-0.2.9 future-0.18.2\n",
      "Note: you may need to restart the kernel to use updated packages.\n"
     ]
    }
   ],
   "source": [
    "pip install Augmentor"
   ]
  },
  {
   "cell_type": "code",
   "execution_count": 11,
   "metadata": {},
   "outputs": [
    {
     "name": "stdout",
     "output_type": "stream",
     "text": [
      "Initialised with 1 image(s) found.\n",
      "Output directory set to ./output."
     ]
    },
    {
     "name": "stderr",
     "output_type": "stream",
     "text": [
      "Processing <PIL.Image.Image image mode=RGB size=1920x1280 at 0x140E929A670>: 100%|██████████| 5/5 [00:01<00:00,  4.08 Samples/s]\n"
     ]
    }
   ],
   "source": [
    "# Importing necessary library\n",
    "import Augmentor\n",
    "# Passing the path of the image directory\n",
    "p = Augmentor.Pipeline(\"./\")\n",
    "  \n",
    "# Defining augmentation parameters and generating 5 samples\n",
    "p.flip_left_right(0.5)\n",
    "p.black_and_white(0.1)\n",
    "p.rotate(0.3, 10, 10)\n",
    "p.skew(0.4, 0.5)\n",
    "p.zoom(probability = 0.2, min_factor = 1.1, max_factor = 1.5)\n",
    "p.sample(5)"
   ]
  }
 ],
 "metadata": {
  "interpreter": {
   "hash": "8bcd4672ee8f888a7bded2ff4d043132575272fe78a45c599617e4885e280f0e"
  },
  "kernelspec": {
   "display_name": "Python 3.9.5 64-bit ('base': conda)",
   "name": "python3"
  },
  "language_info": {
   "codemirror_mode": {
    "name": "ipython",
    "version": 3
   },
   "file_extension": ".py",
   "mimetype": "text/x-python",
   "name": "python",
   "nbconvert_exporter": "python",
   "pygments_lexer": "ipython3",
   "version": "3.9.5"
  },
  "orig_nbformat": 4
 },
 "nbformat": 4,
 "nbformat_minor": 2
}
